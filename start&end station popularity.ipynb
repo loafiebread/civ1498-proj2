{
 "cells": [
  {
   "cell_type": "code",
   "execution_count": 1,
   "metadata": {},
   "outputs": [],
   "source": [
    "import os\n",
    "import pandas as pd\n",
    "import seaborn as sns\n",
    "import matplotlib.pyplot as plt\n",
    "import numpy as np\n",
    "import scipy.stats as stats\n",
    "import datetime"
   ]
  },
  {
   "cell_type": "code",
   "execution_count": 2,
   "metadata": {},
   "outputs": [],
   "source": [
    "df = pd.read_csv('project_merged_data.csv')"
   ]
  },
  {
   "cell_type": "code",
   "execution_count": 3,
   "metadata": {},
   "outputs": [],
   "source": [
    "from scipy import stats\n",
    "df_no_out = df[(np.abs(stats.zscore(stats.zscore(df['Trip Duration']))) < 3)]"
   ]
  },
  {
   "cell_type": "code",
   "execution_count": 4,
   "metadata": {},
   "outputs": [
    {
     "name": "stderr",
     "output_type": "stream",
     "text": [
      "C:\\Users\\Eva\\AppData\\Local\\Temp\\ipykernel_13212\\2852691429.py:1: SettingWithCopyWarning: \n",
      "A value is trying to be set on a copy of a slice from a DataFrame.\n",
      "Try using .loc[row_indexer,col_indexer] = value instead\n",
      "\n",
      "See the caveats in the documentation: https://pandas.pydata.org/pandas-docs/stable/user_guide/indexing.html#returning-a-view-versus-a-copy\n",
      "  df_no_out[\"Start Time\"] = pd.to_datetime(df_no_out[\"Start Time\"])\n"
     ]
    }
   ],
   "source": [
    "df_no_out[\"Start Time\"] = pd.to_datetime(df_no_out[\"Start Time\"])\n"
   ]
  },
  {
   "cell_type": "code",
   "execution_count": 5,
   "metadata": {},
   "outputs": [
    {
     "name": "stderr",
     "output_type": "stream",
     "text": [
      "C:\\Users\\Eva\\AppData\\Local\\Temp\\ipykernel_13212\\1020868618.py:1: SettingWithCopyWarning: \n",
      "A value is trying to be set on a copy of a slice from a DataFrame.\n",
      "Try using .loc[row_indexer,col_indexer] = value instead\n",
      "\n",
      "See the caveats in the documentation: https://pandas.pydata.org/pandas-docs/stable/user_guide/indexing.html#returning-a-view-versus-a-copy\n",
      "  df_no_out['year'] = pd.DatetimeIndex(df_no_out['Start Time']).year\n",
      "C:\\Users\\Eva\\AppData\\Local\\Temp\\ipykernel_13212\\1020868618.py:2: SettingWithCopyWarning: \n",
      "A value is trying to be set on a copy of a slice from a DataFrame.\n",
      "Try using .loc[row_indexer,col_indexer] = value instead\n",
      "\n",
      "See the caveats in the documentation: https://pandas.pydata.org/pandas-docs/stable/user_guide/indexing.html#returning-a-view-versus-a-copy\n",
      "  df_no_out['month'] = pd.DatetimeIndex(df_no_out['Start Time']).month\n"
     ]
    }
   ],
   "source": [
    "df_no_out['year'] = pd.DatetimeIndex(df_no_out['Start Time']).year\n",
    "df_no_out['month'] = pd.DatetimeIndex(df_no_out['Start Time']).month"
   ]
  },
  {
   "cell_type": "code",
   "execution_count": 14,
   "metadata": {},
   "outputs": [],
   "source": [
    "df_2020 = df_no_out[df_no_out['year']==2020]\n",
    "df_2019 = df_no_out[df_no_out['year']==2019]"
   ]
  },
  {
   "cell_type": "code",
   "execution_count": 15,
   "metadata": {},
   "outputs": [],
   "source": [
    "df_2020_return = df_2020[df_2020[\"Start Station Name\"]==df_2020[\"End Station Name\"]]\n",
    "df_2019_return = df_2019[df_2019[\"Start Station Name\"]==df_2019[\"End Station Name\"]]"
   ]
  },
  {
   "cell_type": "code",
   "execution_count": 18,
   "metadata": {},
   "outputs": [
    {
     "name": "stdout",
     "output_type": "stream",
     "text": [
      "(82428, 10)\n",
      "(173274, 10)\n"
     ]
    }
   ],
   "source": [
    "print(df_2019_return.shape)\n",
    "print(df_2020_return.shape)"
   ]
  },
  {
   "cell_type": "code",
   "execution_count": 9,
   "metadata": {},
   "outputs": [],
   "source": [
    "start_2020 = df_2020.groupby(['Start Station Name']).size().sort_values(ascending = False).head(10)\n",
    "end_2020 = df_2020.groupby(['End Station Name']).size().sort_values(ascending = False).head(10)\n",
    "start_2019 = df_2019.groupby(['Start Station Name']).size().sort_values(ascending = False).head(10)\n",
    "end_2019 = df_2019.groupby(['End Station Name']).size().sort_values(ascending = False).head(10)"
   ]
  },
  {
   "cell_type": "code",
   "execution_count": 10,
   "metadata": {},
   "outputs": [],
   "source": [
    "start_2020.to_csv('start_2020and2021.csv')\n",
    "end_2020.to_csv('end_2020and2021.csv')"
   ]
  },
  {
   "cell_type": "code",
   "execution_count": null,
   "metadata": {},
   "outputs": [],
   "source": [
    "start_2019.to_csv('start_2019.csv')\n",
    "end_2019.to_csv('end_2019.csv')"
   ]
  }
 ],
 "metadata": {
  "interpreter": {
   "hash": "483af87a6fc4cc125cdbe791d6763995344654eeadb044554ef695c8de888c6f"
  },
  "kernelspec": {
   "display_name": "Python 3.8.6rc1 64-bit",
   "language": "python",
   "name": "python3"
  },
  "language_info": {
   "codemirror_mode": {
    "name": "ipython",
    "version": 3
   },
   "file_extension": ".py",
   "mimetype": "text/x-python",
   "name": "python",
   "nbconvert_exporter": "python",
   "pygments_lexer": "ipython3",
   "version": "3.8.6rc1"
  },
  "orig_nbformat": 4
 },
 "nbformat": 4,
 "nbformat_minor": 2
}
