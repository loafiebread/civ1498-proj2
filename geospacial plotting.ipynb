{
 "cells": [
  {
   "cell_type": "code",
   "execution_count": null,
   "metadata": {},
   "outputs": [],
   "source": [
    "# Import 3rd party libraries\n",
    "import os\n",
    "import json\n",
    "import requests\n",
    "import numpy as np\n",
    "import pandas as pd\n",
    "import seaborn as sns\n",
    "import geopandas as gpd\n",
    "import matplotlib.pyplot as plt\n",
    "import folium\n",
    "from folium import Choropleth\n",
    "from folium.plugins import HeatMap"
   ]
  },
  {
   "cell_type": "code",
   "execution_count": null,
   "metadata": {},
   "outputs": [],
   "source": [
    "bikeshare_stations = pd.read_csv('bikeshare_stations.csv')"
   ]
  },
  {
   "cell_type": "code",
   "execution_count": null,
   "metadata": {},
   "outputs": [],
   "source": [
    "start_2020 = pd.read_csv('start_2020a.csv')\n",
    "end_2020 = pd.read_csv('end_2020.csv')\n",
    "start_2019 = pd.read_csv('start_2019.csv')\n",
    "end_2019 = pd.read_csv('end_2019.csv')"
   ]
  },
  {
   "cell_type": "code",
   "execution_count": null,
   "metadata": {},
   "outputs": [],
   "source": [
    "start_2020 = pd.merge(start_2020, bikeshare_stations.copy().rename(columns={\"name\": \"Start Station Name\"}), on='Start Station Name')\n",
    "start_2019 = pd.merge(start_2019, bikeshare_stations.copy().rename(columns={\"name\": \"Start Station Name\"}), on='Start Station Name')\n",
    "end_2020 = pd.merge(end_2020, bikeshare_stations.copy().rename(columns={\"name\": \"End Station Name\"}), on='End Station Name')\n",
    "end_2019 = pd.merge(end_2019, bikeshare_stations.copy().rename(columns={\"name\": \"End Station Name\"}), on='End Station Name')"
   ]
  },
  {
   "cell_type": "code",
   "execution_count": null,
   "metadata": {},
   "outputs": [],
   "source": [
    "bikeshare_stations_gdf = gpd.GeoDataFrame(bikeshare_stations, geometry=gpd.points_from_xy(bikeshare_stations['lon'], bikeshare_stations['lat']))\n",
    "start_2020_gdf = gpd.GeoDataFrame(start_2020, geometry=gpd.points_from_xy(start_2020['lon'], start_2020['lat']))\n",
    "end_2020_gdf = gpd.GeoDataFrame(end_2020, geometry=gpd.points_from_xy(end_2020['lon'], end_2020['lat']))\n",
    "start_2019_gdf = gpd.GeoDataFrame(start_2019, geometry=gpd.points_from_xy(start_2019['lon'], start_2019['lat']))\n",
    "end_2019_gdf = gpd.GeoDataFrame(end_2019, geometry=gpd.points_from_xy(end_2019['lon'], end_2019['lat']))"
   ]
  },
  {
   "cell_type": "code",
   "execution_count": null,
   "metadata": {},
   "outputs": [],
   "source": [
    "#load toronto neighborhoods\n",
    "neighbourhoods = gpd.read_file('toronto_neighbourhoods.shp')\n",
    "neighbourhoods = neighbourhoods[['FIELD_8','geometry']]\n",
    "neighbourhoods['FIELD_8'] = neighbourhoods.FIELD_8.str.split('\\(').str[0]\n",
    "neighbourhoods.rename(columns={\"FIELD_8\": \"name\"}, inplace=True)"
   ]
  },
  {
   "cell_type": "code",
   "execution_count": null,
   "metadata": {},
   "outputs": [],
   "source": [
    "ax = neighbourhoods.plot(figsize=(15, 8), edgecolor='w', alpha=0.75)\n",
    "#bikeshare_stations_gdf.plot(ax=ax, color='orange', edgecolor='k', label='Bike Stations')\n",
    "start_2020_gdf.plot(ax=ax, color='yellow', edgecolor='k', label='Most Popular Start Stations 2020')\n",
    "start_2019_gdf.plot(ax=ax, color='green', edgecolor='k', label='Most Popular Start Stations 2019')\n",
    "plt.xlabel('East, meters', fontsize=18)\n",
    "plt.ylabel('North, meters', fontsize=18)\n",
    "ax.legend()\n",
    "plt.savefig('popular start stations.png')"
   ]
  },
  {
   "cell_type": "code",
   "execution_count": null,
   "metadata": {},
   "outputs": [],
   "source": [
    "ax = neighbourhoods.plot(figsize=(15, 8), edgecolor='w', alpha=0.75)\n",
    "end_2020_gdf.plot(ax=ax, color='red', edgecolor='k', label='Most Popular End Stations 2020')\n",
    "end_2019_gdf.plot(ax=ax, color='orange', edgecolor='k', label='Most Popular End Stations 2019')\n",
    "plt.xlabel('East, meters', fontsize=18)\n",
    "plt.ylabel('North, meters', fontsize=18)\n",
    "ax.legend()\n",
    "plt.savefig('popular end stations.png')"
   ]
  },
  {
   "cell_type": "code",
   "execution_count": null,
   "metadata": {},
   "outputs": [],
   "source": [
    "ax = neighbourhoods.plot(figsize=(15, 8), edgecolor='w', alpha=0.75)\n",
    "#bikeshare_stations_gdf.plot(ax=ax, color='orange', edgecolor='k', label='Bike Stations')\n",
    "start_2020_gdf.plot(ax=ax, color='yellow', edgecolor='k', label='Most Popular Start Stations 2020')\n",
    "start_2019_gdf.plot(ax=ax, color='green', edgecolor='k', label='Most Popular Start Stations 2019')\n",
    "end_2020_gdf.plot(ax=ax, color='red', edgecolor='k', label='Most Popular End Stations 2020')\n",
    "end_2019_gdf.plot(ax=ax, color='orange', edgecolor='k', label='Most Popular End Stations 2019')\n",
    "plt.xlabel('East, meters', fontsize=18)\n",
    "plt.ylabel('North, meters', fontsize=18)\n",
    "ax.legend()\n",
    "plt.savefig('popular start and end stations.png')"
   ]
  },
  {
   "cell_type": "code",
   "execution_count": null,
   "metadata": {},
   "outputs": [],
   "source": [
    "from folium import Circle\n",
    "from folium import Marker"
   ]
  },
  {
   "cell_type": "code",
   "execution_count": null,
   "metadata": {},
   "outputs": [],
   "source": [
    "# Create a map of Toronto\n",
    "map_1 = folium.Map(location=[43.6426, -79.3871], \n",
    "                   tiles='cartodbpositron', \n",
    "                   zoom_start=10)\n",
    "\n",
    "# Add points to the map\n",
    "for idx, row in start_2020_gdf.iterrows():\n",
    "    Circle(location=[row.geometry.y, row.geometry.x],\n",
    "           radius=100,\n",
    "           color='blue').add_to(map_1)\n",
    "for idx, row in end_2020_gdf.iterrows():\n",
    "    Circle(location=[row.geometry.y, row.geometry.x],\n",
    "           radius=50,\n",
    "           color='red').add_to(map_1)\n",
    "# for idx, row in start_2020_gdf.iterrows():\n",
    "#     Marker(location=[row.geometry.y, row.geometry.x],\n",
    "#            icon=folium.Icon(color='blue', prefix='fa')).add_to(map_1)\n",
    "# for idx, row in end_2020_gdf.iterrows():\n",
    "#     Marker(location=[row.geometry.y, row.geometry.x],\n",
    "#            icon=folium.Icon(color='red', prefix='fa')).add_to(map_1)\n",
    "    \n",
    "for idx, row in start_2019_gdf.iterrows():\n",
    "    Marker(location=[row.geometry.y, row.geometry.x],\n",
    "           icon=folium.Icon(color='green', prefix='fa')).add_to(map_1)\n",
    "for idx, row in end_2019_gdf.iterrows():\n",
    "    Marker(location=[row.geometry.y, row.geometry.x],\n",
    "           icon=folium.Icon(color='orange', prefix='fa')).add_to(map_1)\n",
    "\n",
    "# Display map\n",
    "map_1"
   ]
  },
  {
   "cell_type": "code",
   "execution_count": null,
   "metadata": {},
   "outputs": [],
   "source": [
    "map_1.save(\"map.html\")"
   ]
  }
 ],
 "metadata": {
  "kernelspec": {
   "display_name": "Python 3 (ipykernel)",
   "language": "python",
   "name": "python3"
  },
  "language_info": {
   "codemirror_mode": {
    "name": "ipython",
    "version": 3
   },
   "file_extension": ".py",
   "mimetype": "text/x-python",
   "name": "python",
   "nbconvert_exporter": "python",
   "pygments_lexer": "ipython3",
   "version": "3.8.12"
  }
 },
 "nbformat": 4,
 "nbformat_minor": 4
}
